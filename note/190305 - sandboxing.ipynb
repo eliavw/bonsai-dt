{
 "cells": [
  {
   "cell_type": "markdown",
   "metadata": {},
   "source": [
    "# Bonsai Demo"
   ]
  },
  {
   "cell_type": "markdown",
   "metadata": {},
   "source": [
    "## Imports"
   ]
  },
  {
   "cell_type": "code",
   "execution_count": 1,
   "metadata": {
    "collapsed": true
   },
   "outputs": [],
   "source": [
    "import os\n",
    "import sys\n",
    "\n",
    "import numpy as np\n",
    "import pandas as pd\n",
    "from sklearn.datasets import make_friedman1\n",
    "from sklearn.model_selection import train_test_split\n",
    "\n",
    "import matplotlib.pyplot as plt\n",
    "import seaborn as sns\n",
    "\n",
    "note_dir = os.getcwd()\n",
    "root_dir = os.path.dirname(note_dir)\n",
    "sys.path.append(root_dir)\n",
    "\n",
    "import bonsai\n",
    "from bonsai.base import *"
   ]
  },
  {
   "cell_type": "code",
   "execution_count": 2,
   "metadata": {
    "collapsed": true
   },
   "outputs": [],
   "source": [
    "def plot_corr(corr):\n",
    "    fig = plt.figure(figsize=((10,10))) # slightly larger\n",
    "    ax = fig.add_subplot(111)\n",
    "    cax = ax.matshow(corr,cmap='seismic')\n",
    "    fig.colorbar(cax)\n",
    "    \n",
    "    for (i, j), z in np.ndenumerate(corr):\n",
    "        ax.text(j, i, '{:0.4f}'.format(z), ha='center', va='center', color='w')\n",
    "    return "
   ]
  },
  {
   "cell_type": "code",
   "execution_count": 3,
   "metadata": {
    "collapsed": true
   },
   "outputs": [],
   "source": [
    "def summarize_dataset(df, samples=1000, random_state=997, replace=False):\n",
    "    \"\"\"\n",
    "    This function plots a grid of plots that give some insights into pairwise relationships between\n",
    "    the attributes in the dataset.\n",
    "    \n",
    "    Explicit correlations or special distributions should be very visible here.\n",
    "    \"\"\"\n",
    "    \n",
    "    df_subsample = df.sample(n=samples, replace=False, random_state=random_state)\n",
    "    \n",
    "    sns.set(style=\"ticks\", color_codes=True)\n",
    "    g = sns.PairGrid(df_subsample) # slice every 10 otherwise a bit slow\n",
    "    g = g.map_diag(plt.hist) # histograms on the diagonal\n",
    "    g = g.map_lower(sns.kdeplot, cmap=\"Blues_d\") # density plot on the lower plots\n",
    "    g = g.map_upper(plt.scatter) # scatter plots on the upper plots\n",
    "    return"
   ]
  },
  {
   "cell_type": "markdown",
   "metadata": {},
   "source": [
    "## Demo"
   ]
  },
  {
   "cell_type": "markdown",
   "metadata": {},
   "source": [
    "### Dataset"
   ]
  },
  {
   "cell_type": "code",
   "execution_count": 4,
   "metadata": {
    "collapsed": true
   },
   "outputs": [],
   "source": [
    "# Pre-built regression tree using Bonsai\n",
    "X, y = make_friedman1(n_samples=10**5) \n",
    "n, m = X.shape\n",
    "X_train, X_test, y_train, y_test = train_test_split(X, y, test_size=0.2)"
   ]
  },
  {
   "cell_type": "markdown",
   "metadata": {},
   "source": [
    "### Inspection 1: Correlation Matrix"
   ]
  },
  {
   "cell_type": "code",
   "execution_count": 5,
   "metadata": {},
   "outputs": [
    {
     "data": {
      "text/html": [
       "<div>\n",
       "<style scoped>\n",
       "    .dataframe tbody tr th:only-of-type {\n",
       "        vertical-align: middle;\n",
       "    }\n",
       "\n",
       "    .dataframe tbody tr th {\n",
       "        vertical-align: top;\n",
       "    }\n",
       "\n",
       "    .dataframe thead th {\n",
       "        text-align: right;\n",
       "    }\n",
       "</style>\n",
       "<table border=\"1\" class=\"dataframe\">\n",
       "  <thead>\n",
       "    <tr style=\"text-align: right;\">\n",
       "      <th></th>\n",
       "      <th>0</th>\n",
       "      <th>1</th>\n",
       "      <th>2</th>\n",
       "      <th>3</th>\n",
       "      <th>4</th>\n",
       "      <th>5</th>\n",
       "      <th>6</th>\n",
       "      <th>7</th>\n",
       "      <th>8</th>\n",
       "      <th>9</th>\n",
       "      <th>y</th>\n",
       "    </tr>\n",
       "  </thead>\n",
       "  <tbody>\n",
       "    <tr>\n",
       "      <th>0</th>\n",
       "      <td>0.138992</td>\n",
       "      <td>0.942718</td>\n",
       "      <td>0.769316</td>\n",
       "      <td>0.966302</td>\n",
       "      <td>0.752178</td>\n",
       "      <td>0.536963</td>\n",
       "      <td>0.903377</td>\n",
       "      <td>0.120651</td>\n",
       "      <td>0.365468</td>\n",
       "      <td>0.443608</td>\n",
       "      <td>18.875705</td>\n",
       "    </tr>\n",
       "    <tr>\n",
       "      <th>1</th>\n",
       "      <td>0.594364</td>\n",
       "      <td>0.249402</td>\n",
       "      <td>0.328879</td>\n",
       "      <td>0.210995</td>\n",
       "      <td>0.805055</td>\n",
       "      <td>0.538794</td>\n",
       "      <td>0.929316</td>\n",
       "      <td>0.092691</td>\n",
       "      <td>0.903241</td>\n",
       "      <td>0.969217</td>\n",
       "      <td>11.211312</td>\n",
       "    </tr>\n",
       "    <tr>\n",
       "      <th>2</th>\n",
       "      <td>0.050012</td>\n",
       "      <td>0.133151</td>\n",
       "      <td>0.963196</td>\n",
       "      <td>0.975512</td>\n",
       "      <td>0.568605</td>\n",
       "      <td>0.284192</td>\n",
       "      <td>0.762023</td>\n",
       "      <td>0.924074</td>\n",
       "      <td>0.052255</td>\n",
       "      <td>0.431646</td>\n",
       "      <td>17.098347</td>\n",
       "    </tr>\n",
       "    <tr>\n",
       "      <th>3</th>\n",
       "      <td>0.979142</td>\n",
       "      <td>0.636665</td>\n",
       "      <td>0.035837</td>\n",
       "      <td>0.117381</td>\n",
       "      <td>0.570311</td>\n",
       "      <td>0.117054</td>\n",
       "      <td>0.297113</td>\n",
       "      <td>0.084366</td>\n",
       "      <td>0.902823</td>\n",
       "      <td>0.639696</td>\n",
       "      <td>17.592398</td>\n",
       "    </tr>\n",
       "    <tr>\n",
       "      <th>4</th>\n",
       "      <td>0.460308</td>\n",
       "      <td>0.678292</td>\n",
       "      <td>0.435889</td>\n",
       "      <td>0.899623</td>\n",
       "      <td>0.142151</td>\n",
       "      <td>0.262276</td>\n",
       "      <td>0.449251</td>\n",
       "      <td>0.597922</td>\n",
       "      <td>0.160738</td>\n",
       "      <td>0.961687</td>\n",
       "      <td>18.099058</td>\n",
       "    </tr>\n",
       "  </tbody>\n",
       "</table>\n",
       "</div>"
      ],
      "text/plain": [
       "          0         1         2         3         4         5         6  \\\n",
       "0  0.138992  0.942718  0.769316  0.966302  0.752178  0.536963  0.903377   \n",
       "1  0.594364  0.249402  0.328879  0.210995  0.805055  0.538794  0.929316   \n",
       "2  0.050012  0.133151  0.963196  0.975512  0.568605  0.284192  0.762023   \n",
       "3  0.979142  0.636665  0.035837  0.117381  0.570311  0.117054  0.297113   \n",
       "4  0.460308  0.678292  0.435889  0.899623  0.142151  0.262276  0.449251   \n",
       "\n",
       "          7         8         9          y  \n",
       "0  0.120651  0.365468  0.443608  18.875705  \n",
       "1  0.092691  0.903241  0.969217  11.211312  \n",
       "2  0.924074  0.052255  0.431646  17.098347  \n",
       "3  0.084366  0.902823  0.639696  17.592398  \n",
       "4  0.597922  0.160738  0.961687  18.099058  "
      ]
     },
     "execution_count": 5,
     "metadata": {},
     "output_type": "execute_result"
    }
   ],
   "source": [
    "df = pd.DataFrame(X)\n",
    "df = df.assign(y=y)\n",
    "df.head()"
   ]
  },
  {
   "cell_type": "code",
   "execution_count": 6,
   "metadata": {},
   "outputs": [
    {
     "data": {
      "image/png": "[encoded data removed]",
      "text/plain": [
       "<Figure size 720x720 with 2 Axes>"
      ]
     },
     "metadata": {
      "needs_background": "light"
     },
     "output_type": "display_data"
    }
   ],
   "source": [
    "corr = df.corr().values\n",
    "plot_corr(corr)"
   ]
  },
  {
   "cell_type": "code",
   "execution_count": 7,
   "metadata": {},
   "outputs": [
    {
     "data": {
      "text/html": [
       "<style  type=\"text/css\" >\n",
       "    #T_de049588_40f6_11e9_b2a2_1866da2d1d8frow0_col0 {\n",
       "            background-color:  #b40426;\n",
       "            color:  #f1f1f1;\n",
       "        }    #T_de049588_40f6_11e9_b2a2_1866da2d1d8frow0_col1 {\n",
       "            background-color:  #3c4ec2;\n",
       "            color:  #f1f1f1;\n",
       "        }    #T_de049588_40f6_11e9_b2a2_1866da2d1d8frow0_col2 {\n",
       "            background-color:  #3c4ec2;\n",
       "            color:  #f1f1f1;\n",
       "        }    #T_de049588_40f6_11e9_b2a2_1866da2d1d8frow0_col3 {\n",
       "            background-color:  #3c4ec2;\n",
       "            color:  #f1f1f1;\n",
       "        }    #T_de049588_40f6_11e9_b2a2_1866da2d1d8frow0_col4 {\n",
       "            background-color:  #3c4ec2;\n",
       "            color:  #f1f1f1;\n",
       "        }    #T_de049588_40f6_11e9_b2a2_1866da2d1d8frow0_col5 {\n",
       "            background-color:  #3d50c3;\n",
       "            color:  #f1f1f1;\n",
       "        }    #T_de049588_40f6_11e9_b2a2_1866da2d1d8frow0_col6 {\n",
       "            background-color:  #3c4ec2;\n",
       "            color:  #f1f1f1;\n",
       "        }    #T_de049588_40f6_11e9_b2a2_1866da2d1d8frow0_col7 {\n",
       "            background-color:  #3c4ec2;\n",
       "            color:  #f1f1f1;\n",
       "        }    #T_de049588_40f6_11e9_b2a2_1866da2d1d8frow0_col8 {\n",
       "            background-color:  #3c4ec2;\n",
       "            color:  #f1f1f1;\n",
       "        }    #T_de049588_40f6_11e9_b2a2_1866da2d1d8frow0_col9 {\n",
       "            background-color:  #3b4cc0;\n",
       "            color:  #f1f1f1;\n",
       "        }    #T_de049588_40f6_11e9_b2a2_1866da2d1d8frow0_col10 {\n",
       "            background-color:  #c1d4f4;\n",
       "            color:  #000000;\n",
       "        }    #T_de049588_40f6_11e9_b2a2_1866da2d1d8frow1_col0 {\n",
       "            background-color:  #3c4ec2;\n",
       "            color:  #f1f1f1;\n",
       "        }    #T_de049588_40f6_11e9_b2a2_1866da2d1d8frow1_col1 {\n",
       "            background-color:  #b40426;\n",
       "            color:  #f1f1f1;\n",
       "        }    #T_de049588_40f6_11e9_b2a2_1866da2d1d8frow1_col2 {\n",
       "            background-color:  #3e51c5;\n",
       "            color:  #f1f1f1;\n",
       "        }    #T_de049588_40f6_11e9_b2a2_1866da2d1d8frow1_col3 {\n",
       "            background-color:  #3b4cc0;\n",
       "            color:  #f1f1f1;\n",
       "        }    #T_de049588_40f6_11e9_b2a2_1866da2d1d8frow1_col4 {\n",
       "            background-color:  #3d50c3;\n",
       "            color:  #f1f1f1;\n",
       "        }    #T_de049588_40f6_11e9_b2a2_1866da2d1d8frow1_col5 {\n",
       "            background-color:  #3c4ec2;\n",
       "            color:  #f1f1f1;\n",
       "        }    #T_de049588_40f6_11e9_b2a2_1866da2d1d8frow1_col6 {\n",
       "            background-color:  #3c4ec2;\n",
       "            color:  #f1f1f1;\n",
       "        }    #T_de049588_40f6_11e9_b2a2_1866da2d1d8frow1_col7 {\n",
       "            background-color:  #3b4cc0;\n",
       "            color:  #f1f1f1;\n",
       "        }    #T_de049588_40f6_11e9_b2a2_1866da2d1d8frow1_col8 {\n",
       "            background-color:  #3d50c3;\n",
       "            color:  #f1f1f1;\n",
       "        }    #T_de049588_40f6_11e9_b2a2_1866da2d1d8frow1_col9 {\n",
       "            background-color:  #3c4ec2;\n",
       "            color:  #f1f1f1;\n",
       "        }    #T_de049588_40f6_11e9_b2a2_1866da2d1d8frow1_col10 {\n",
       "            background-color:  #c0d4f5;\n",
       "            color:  #000000;\n",
       "        }    #T_de049588_40f6_11e9_b2a2_1866da2d1d8frow2_col0 {\n",
       "            background-color:  #3c4ec2;\n",
       "            color:  #f1f1f1;\n",
       "        }    #T_de049588_40f6_11e9_b2a2_1866da2d1d8frow2_col1 {\n",
       "            background-color:  #3e51c5;\n",
       "            color:  #f1f1f1;\n",
       "        }    #T_de049588_40f6_11e9_b2a2_1866da2d1d8frow2_col2 {\n",
       "            background-color:  #b40426;\n",
       "            color:  #f1f1f1;\n",
       "        }    #T_de049588_40f6_11e9_b2a2_1866da2d1d8frow2_col3 {\n",
       "            background-color:  #3e51c5;\n",
       "            color:  #f1f1f1;\n",
       "        }    #T_de049588_40f6_11e9_b2a2_1866da2d1d8frow2_col4 {\n",
       "            background-color:  #3c4ec2;\n",
       "            color:  #f1f1f1;\n",
       "        }    #T_de049588_40f6_11e9_b2a2_1866da2d1d8frow2_col5 {\n",
       "            background-color:  #3d50c3;\n",
       "            color:  #f1f1f1;\n",
       "        }    #T_de049588_40f6_11e9_b2a2_1866da2d1d8frow2_col6 {\n",
       "            background-color:  #3c4ec2;\n",
       "            color:  #f1f1f1;\n",
       "        }    #T_de049588_40f6_11e9_b2a2_1866da2d1d8frow2_col7 {\n",
       "            background-color:  #3d50c3;\n",
       "            color:  #f1f1f1;\n",
       "        }    #T_de049588_40f6_11e9_b2a2_1866da2d1d8frow2_col8 {\n",
       "            background-color:  #3c4ec2;\n",
       "            color:  #f1f1f1;\n",
       "        }    #T_de049588_40f6_11e9_b2a2_1866da2d1d8frow2_col9 {\n",
       "            background-color:  #3c4ec2;\n",
       "            color:  #f1f1f1;\n",
       "        }    #T_de049588_40f6_11e9_b2a2_1866da2d1d8frow2_col10 {\n",
       "            background-color:  #3e51c5;\n",
       "            color:  #f1f1f1;\n",
       "        }    #T_de049588_40f6_11e9_b2a2_1866da2d1d8frow3_col0 {\n",
       "            background-color:  #3c4ec2;\n",
       "            color:  #f1f1f1;\n",
       "        }    #T_de049588_40f6_11e9_b2a2_1866da2d1d8frow3_col1 {\n",
       "            background-color:  #3b4cc0;\n",
       "            color:  #f1f1f1;\n",
       "        }    #T_de049588_40f6_11e9_b2a2_1866da2d1d8frow3_col2 {\n",
       "            background-color:  #3e51c5;\n",
       "            color:  #f1f1f1;\n",
       "        }    #T_de049588_40f6_11e9_b2a2_1866da2d1d8frow3_col3 {\n",
       "            background-color:  #b40426;\n",
       "            color:  #f1f1f1;\n",
       "        }    #T_de049588_40f6_11e9_b2a2_1866da2d1d8frow3_col4 {\n",
       "            background-color:  #3c4ec2;\n",
       "            color:  #f1f1f1;\n",
       "        }    #T_de049588_40f6_11e9_b2a2_1866da2d1d8frow3_col5 {\n",
       "            background-color:  #3c4ec2;\n",
       "            color:  #f1f1f1;\n",
       "        }    #T_de049588_40f6_11e9_b2a2_1866da2d1d8frow3_col6 {\n",
       "            background-color:  #3c4ec2;\n",
       "            color:  #f1f1f1;\n",
       "        }    #T_de049588_40f6_11e9_b2a2_1866da2d1d8frow3_col7 {\n",
       "            background-color:  #3d50c3;\n",
       "            color:  #f1f1f1;\n",
       "        }    #T_de049588_40f6_11e9_b2a2_1866da2d1d8frow3_col8 {\n",
       "            background-color:  #3d50c3;\n",
       "            color:  #f1f1f1;\n",
       "        }    #T_de049588_40f6_11e9_b2a2_1866da2d1d8frow3_col9 {\n",
       "            background-color:  #3d50c3;\n",
       "            color:  #f1f1f1;\n",
       "        }    #T_de049588_40f6_11e9_b2a2_1866da2d1d8frow3_col10 {\n",
       "            background-color:  #f1cdba;\n",
       "            color:  #000000;\n",
       "        }    #T_de049588_40f6_11e9_b2a2_1866da2d1d8frow4_col0 {\n",
       "            background-color:  #3c4ec2;\n",
       "            color:  #f1f1f1;\n",
       "        }    #T_de049588_40f6_11e9_b2a2_1866da2d1d8frow4_col1 {\n",
       "            background-color:  #3d50c3;\n",
       "            color:  #f1f1f1;\n",
       "        }    #T_de049588_40f6_11e9_b2a2_1866da2d1d8frow4_col2 {\n",
       "            background-color:  #3c4ec2;\n",
       "            color:  #f1f1f1;\n",
       "        }    #T_de049588_40f6_11e9_b2a2_1866da2d1d8frow4_col3 {\n",
       "            background-color:  #3c4ec2;\n",
       "            color:  #f1f1f1;\n",
       "        }    #T_de049588_40f6_11e9_b2a2_1866da2d1d8frow4_col4 {\n",
       "            background-color:  #b40426;\n",
       "            color:  #f1f1f1;\n",
       "        }    #T_de049588_40f6_11e9_b2a2_1866da2d1d8frow4_col5 {\n",
       "            background-color:  #3d50c3;\n",
       "            color:  #f1f1f1;\n",
       "        }    #T_de049588_40f6_11e9_b2a2_1866da2d1d8frow4_col6 {\n",
       "            background-color:  #3d50c3;\n",
       "            color:  #f1f1f1;\n",
       "        }    #T_de049588_40f6_11e9_b2a2_1866da2d1d8frow4_col7 {\n",
       "            background-color:  #3c4ec2;\n",
       "            color:  #f1f1f1;\n",
       "        }    #T_de049588_40f6_11e9_b2a2_1866da2d1d8frow4_col8 {\n",
       "            background-color:  #3b4cc0;\n",
       "            color:  #f1f1f1;\n",
       "        }    #T_de049588_40f6_11e9_b2a2_1866da2d1d8frow4_col9 {\n",
       "            background-color:  #3c4ec2;\n",
       "            color:  #f1f1f1;\n",
       "        }    #T_de049588_40f6_11e9_b2a2_1866da2d1d8frow4_col10 {\n",
       "            background-color:  #9fbfff;\n",
       "            color:  #000000;\n",
       "        }    #T_de049588_40f6_11e9_b2a2_1866da2d1d8frow5_col0 {\n",
       "            background-color:  #3d50c3;\n",
       "            color:  #f1f1f1;\n",
       "        }    #T_de049588_40f6_11e9_b2a2_1866da2d1d8frow5_col1 {\n",
       "            background-color:  #3c4ec2;\n",
       "            color:  #f1f1f1;\n",
       "        }    #T_de049588_40f6_11e9_b2a2_1866da2d1d8frow5_col2 {\n",
       "            background-color:  #3d50c3;\n",
       "            color:  #f1f1f1;\n",
       "        }    #T_de049588_40f6_11e9_b2a2_1866da2d1d8frow5_col3 {\n",
       "            background-color:  #3c4ec2;\n",
       "            color:  #f1f1f1;\n",
       "        }    #T_de049588_40f6_11e9_b2a2_1866da2d1d8frow5_col4 {\n",
       "            background-color:  #3d50c3;\n",
       "            color:  #f1f1f1;\n",
       "        }    #T_de049588_40f6_11e9_b2a2_1866da2d1d8frow5_col5 {\n",
       "            background-color:  #b40426;\n",
       "            color:  #f1f1f1;\n",
       "        }    #T_de049588_40f6_11e9_b2a2_1866da2d1d8frow5_col6 {\n",
       "            background-color:  #3d50c3;\n",
       "            color:  #f1f1f1;\n",
       "        }    #T_de049588_40f6_11e9_b2a2_1866da2d1d8frow5_col7 {\n",
       "            background-color:  #3c4ec2;\n",
       "            color:  #f1f1f1;\n",
       "        }    #T_de049588_40f6_11e9_b2a2_1866da2d1d8frow5_col8 {\n",
       "            background-color:  #3c4ec2;\n",
       "            color:  #f1f1f1;\n",
       "        }    #T_de049588_40f6_11e9_b2a2_1866da2d1d8frow5_col9 {\n",
       "            background-color:  #3b4cc0;\n",
       "            color:  #f1f1f1;\n",
       "        }    #T_de049588_40f6_11e9_b2a2_1866da2d1d8frow5_col10 {\n",
       "            background-color:  #3d50c3;\n",
       "            color:  #f1f1f1;\n",
       "        }    #T_de049588_40f6_11e9_b2a2_1866da2d1d8frow6_col0 {\n",
       "            background-color:  #3c4ec2;\n",
       "            color:  #f1f1f1;\n",
       "        }    #T_de049588_40f6_11e9_b2a2_1866da2d1d8frow6_col1 {\n",
       "            background-color:  #3c4ec2;\n",
       "            color:  #f1f1f1;\n",
       "        }    #T_de049588_40f6_11e9_b2a2_1866da2d1d8frow6_col2 {\n",
       "            background-color:  #3c4ec2;\n",
       "            color:  #f1f1f1;\n",
       "        }    #T_de049588_40f6_11e9_b2a2_1866da2d1d8frow6_col3 {\n",
       "            background-color:  #3c4ec2;\n",
       "            color:  #f1f1f1;\n",
       "        }    #T_de049588_40f6_11e9_b2a2_1866da2d1d8frow6_col4 {\n",
       "            background-color:  #3d50c3;\n",
       "            color:  #f1f1f1;\n",
       "        }    #T_de049588_40f6_11e9_b2a2_1866da2d1d8frow6_col5 {\n",
       "            background-color:  #3d50c3;\n",
       "            color:  #f1f1f1;\n",
       "        }    #T_de049588_40f6_11e9_b2a2_1866da2d1d8frow6_col6 {\n",
       "            background-color:  #b40426;\n",
       "            color:  #f1f1f1;\n",
       "        }    #T_de049588_40f6_11e9_b2a2_1866da2d1d8frow6_col7 {\n",
       "            background-color:  #3b4cc0;\n",
       "            color:  #f1f1f1;\n",
       "        }    #T_de049588_40f6_11e9_b2a2_1866da2d1d8frow6_col8 {\n",
       "            background-color:  #3c4ec2;\n",
       "            color:  #f1f1f1;\n",
       "        }    #T_de049588_40f6_11e9_b2a2_1866da2d1d8frow6_col9 {\n",
       "            background-color:  #3c4ec2;\n",
       "            color:  #f1f1f1;\n",
       "        }    #T_de049588_40f6_11e9_b2a2_1866da2d1d8frow6_col10 {\n",
       "            background-color:  #3c4ec2;\n",
       "            color:  #f1f1f1;\n",
       "        }    #T_de049588_40f6_11e9_b2a2_1866da2d1d8frow7_col0 {\n",
       "            background-color:  #3c4ec2;\n",
       "            color:  #f1f1f1;\n",
       "        }    #T_de049588_40f6_11e9_b2a2_1866da2d1d8frow7_col1 {\n",
       "            background-color:  #3b4cc0;\n",
       "            color:  #f1f1f1;\n",
       "        }    #T_de049588_40f6_11e9_b2a2_1866da2d1d8frow7_col2 {\n",
       "            background-color:  #3d50c3;\n",
       "            color:  #f1f1f1;\n",
       "        }    #T_de049588_40f6_11e9_b2a2_1866da2d1d8frow7_col3 {\n",
       "            background-color:  #3d50c3;\n",
       "            color:  #f1f1f1;\n",
       "        }    #T_de049588_40f6_11e9_b2a2_1866da2d1d8frow7_col4 {\n",
       "            background-color:  #3c4ec2;\n",
       "            color:  #f1f1f1;\n",
       "        }    #T_de049588_40f6_11e9_b2a2_1866da2d1d8frow7_col5 {\n",
       "            background-color:  #3c4ec2;\n",
       "            color:  #f1f1f1;\n",
       "        }    #T_de049588_40f6_11e9_b2a2_1866da2d1d8frow7_col6 {\n",
       "            background-color:  #3b4cc0;\n",
       "            color:  #f1f1f1;\n",
       "        }    #T_de049588_40f6_11e9_b2a2_1866da2d1d8frow7_col7 {\n",
       "            background-color:  #b40426;\n",
       "            color:  #f1f1f1;\n",
       "        }    #T_de049588_40f6_11e9_b2a2_1866da2d1d8frow7_col8 {\n",
       "            background-color:  #3b4cc0;\n",
       "            color:  #f1f1f1;\n",
       "        }    #T_de049588_40f6_11e9_b2a2_1866da2d1d8frow7_col9 {\n",
       "            background-color:  #3c4ec2;\n",
       "            color:  #f1f1f1;\n",
       "        }    #T_de049588_40f6_11e9_b2a2_1866da2d1d8frow7_col10 {\n",
       "            background-color:  #3c4ec2;\n",
       "            color:  #f1f1f1;\n",
       "        }    #T_de049588_40f6_11e9_b2a2_1866da2d1d8frow8_col0 {\n",
       "            background-color:  #3c4ec2;\n",
       "            color:  #f1f1f1;\n",
       "        }    #T_de049588_40f6_11e9_b2a2_1866da2d1d8frow8_col1 {\n",
       "            background-color:  #3d50c3;\n",
       "            color:  #f1f1f1;\n",
       "        }    #T_de049588_40f6_11e9_b2a2_1866da2d1d8frow8_col2 {\n",
       "            background-color:  #3c4ec2;\n",
       "            color:  #f1f1f1;\n",
       "        }    #T_de049588_40f6_11e9_b2a2_1866da2d1d8frow8_col3 {\n",
       "            background-color:  #3d50c3;\n",
       "            color:  #f1f1f1;\n",
       "        }    #T_de049588_40f6_11e9_b2a2_1866da2d1d8frow8_col4 {\n",
       "            background-color:  #3b4cc0;\n",
       "            color:  #f1f1f1;\n",
       "        }    #T_de049588_40f6_11e9_b2a2_1866da2d1d8frow8_col5 {\n",
       "            background-color:  #3c4ec2;\n",
       "            color:  #f1f1f1;\n",
       "        }    #T_de049588_40f6_11e9_b2a2_1866da2d1d8frow8_col6 {\n",
       "            background-color:  #3c4ec2;\n",
       "            color:  #f1f1f1;\n",
       "        }    #T_de049588_40f6_11e9_b2a2_1866da2d1d8frow8_col7 {\n",
       "            background-color:  #3b4cc0;\n",
       "            color:  #f1f1f1;\n",
       "        }    #T_de049588_40f6_11e9_b2a2_1866da2d1d8frow8_col8 {\n",
       "            background-color:  #b40426;\n",
       "            color:  #f1f1f1;\n",
       "        }    #T_de049588_40f6_11e9_b2a2_1866da2d1d8frow8_col9 {\n",
       "            background-color:  #3d50c3;\n",
       "            color:  #f1f1f1;\n",
       "        }    #T_de049588_40f6_11e9_b2a2_1866da2d1d8frow8_col10 {\n",
       "            background-color:  #3d50c3;\n",
       "            color:  #f1f1f1;\n",
       "        }    #T_de049588_40f6_11e9_b2a2_1866da2d1d8frow9_col0 {\n",
       "            background-color:  #3b4cc0;\n",
       "            color:  #f1f1f1;\n",
       "        }    #T_de049588_40f6_11e9_b2a2_1866da2d1d8frow9_col1 {\n",
       "            background-color:  #3c4ec2;\n",
       "            color:  #f1f1f1;\n",
       "        }    #T_de049588_40f6_11e9_b2a2_1866da2d1d8frow9_col2 {\n",
       "            background-color:  #3c4ec2;\n",
       "            color:  #f1f1f1;\n",
       "        }    #T_de049588_40f6_11e9_b2a2_1866da2d1d8frow9_col3 {\n",
       "            background-color:  #3d50c3;\n",
       "            color:  #f1f1f1;\n",
       "        }    #T_de049588_40f6_11e9_b2a2_1866da2d1d8frow9_col4 {\n",
       "            background-color:  #3c4ec2;\n",
       "            color:  #f1f1f1;\n",
       "        }    #T_de049588_40f6_11e9_b2a2_1866da2d1d8frow9_col5 {\n",
       "            background-color:  #3b4cc0;\n",
       "            color:  #f1f1f1;\n",
       "        }    #T_de049588_40f6_11e9_b2a2_1866da2d1d8frow9_col6 {\n",
       "            background-color:  #3c4ec2;\n",
       "            color:  #f1f1f1;\n",
       "        }    #T_de049588_40f6_11e9_b2a2_1866da2d1d8frow9_col7 {\n",
       "            background-color:  #3c4ec2;\n",
       "            color:  #f1f1f1;\n",
       "        }    #T_de049588_40f6_11e9_b2a2_1866da2d1d8frow9_col8 {\n",
       "            background-color:  #3d50c3;\n",
       "            color:  #f1f1f1;\n",
       "        }    #T_de049588_40f6_11e9_b2a2_1866da2d1d8frow9_col9 {\n",
       "            background-color:  #b40426;\n",
       "            color:  #f1f1f1;\n",
       "        }    #T_de049588_40f6_11e9_b2a2_1866da2d1d8frow9_col10 {\n",
       "            background-color:  #3c4ec2;\n",
       "            color:  #f1f1f1;\n",
       "        }    #T_de049588_40f6_11e9_b2a2_1866da2d1d8frow10_col0 {\n",
       "            background-color:  #c1d4f4;\n",
       "            color:  #000000;\n",
       "        }    #T_de049588_40f6_11e9_b2a2_1866da2d1d8frow10_col1 {\n",
       "            background-color:  #c0d4f5;\n",
       "            color:  #000000;\n",
       "        }    #T_de049588_40f6_11e9_b2a2_1866da2d1d8frow10_col2 {\n",
       "            background-color:  #3e51c5;\n",
       "            color:  #f1f1f1;\n",
       "        }    #T_de049588_40f6_11e9_b2a2_1866da2d1d8frow10_col3 {\n",
       "            background-color:  #f1cdba;\n",
       "            color:  #000000;\n",
       "        }    #T_de049588_40f6_11e9_b2a2_1866da2d1d8frow10_col4 {\n",
       "            background-color:  #9fbfff;\n",
       "            color:  #000000;\n",
       "        }    #T_de049588_40f6_11e9_b2a2_1866da2d1d8frow10_col5 {\n",
       "            background-color:  #3d50c3;\n",
       "            color:  #f1f1f1;\n",
       "        }    #T_de049588_40f6_11e9_b2a2_1866da2d1d8frow10_col6 {\n",
       "            background-color:  #3c4ec2;\n",
       "            color:  #f1f1f1;\n",
       "        }    #T_de049588_40f6_11e9_b2a2_1866da2d1d8frow10_col7 {\n",
       "            background-color:  #3c4ec2;\n",
       "            color:  #f1f1f1;\n",
       "        }    #T_de049588_40f6_11e9_b2a2_1866da2d1d8frow10_col8 {\n",
       "            background-color:  #3d50c3;\n",
       "            color:  #f1f1f1;\n",
       "        }    #T_de049588_40f6_11e9_b2a2_1866da2d1d8frow10_col9 {\n",
       "            background-color:  #3c4ec2;\n",
       "            color:  #f1f1f1;\n",
       "        }    #T_de049588_40f6_11e9_b2a2_1866da2d1d8frow10_col10 {\n",
       "            background-color:  #b40426;\n",
       "            color:  #f1f1f1;\n",
       "        }</style><table id=\"T_de049588_40f6_11e9_b2a2_1866da2d1d8f\" ><thead>    <tr>        <th class=\"blank level0\" ></th>        <th class=\"col_heading level0 col0\" >0</th>        <th class=\"col_heading level0 col1\" >1</th>        <th class=\"col_heading level0 col2\" >2</th>        <th class=\"col_heading level0 col3\" >3</th>        <th class=\"col_heading level0 col4\" >4</th>        <th class=\"col_heading level0 col5\" >5</th>        <th class=\"col_heading level0 col6\" >6</th>        <th class=\"col_heading level0 col7\" >7</th>        <th class=\"col_heading level0 col8\" >8</th>        <th class=\"col_heading level0 col9\" >9</th>        <th class=\"col_heading level0 col10\" >10</th>    </tr></thead><tbody>\n",
       "                <tr>\n",
       "                        <th id=\"T_de049588_40f6_11e9_b2a2_1866da2d1d8flevel0_row0\" class=\"row_heading level0 row0\" >0</th>\n",
       "                        <td id=\"T_de049588_40f6_11e9_b2a2_1866da2d1d8frow0_col0\" class=\"data row0 col0\" >1</td>\n",
       "                        <td id=\"T_de049588_40f6_11e9_b2a2_1866da2d1d8frow0_col1\" class=\"data row0 col1\" >0.001</td>\n",
       "                        <td id=\"T_de049588_40f6_11e9_b2a2_1866da2d1d8frow0_col2\" class=\"data row0 col2\" >-0.00086</td>\n",
       "                        <td id=\"T_de049588_40f6_11e9_b2a2_1866da2d1d8frow0_col3\" class=\"data row0 col3\" >0.0002</td>\n",
       "                        <td id=\"T_de049588_40f6_11e9_b2a2_1866da2d1d8frow0_col4\" class=\"data row0 col4\" >-0.00088</td>\n",
       "                        <td id=\"T_de049588_40f6_11e9_b2a2_1866da2d1d8frow0_col5\" class=\"data row0 col5\" >0.0021</td>\n",
       "                        <td id=\"T_de049588_40f6_11e9_b2a2_1866da2d1d8frow0_col6\" class=\"data row0 col6\" >-0.00088</td>\n",
       "                        <td id=\"T_de049588_40f6_11e9_b2a2_1866da2d1d8frow0_col7\" class=\"data row0 col7\" >-0.00037</td>\n",
       "                        <td id=\"T_de049588_40f6_11e9_b2a2_1866da2d1d8frow0_col8\" class=\"data row0 col8\" >0.0014</td>\n",
       "                        <td id=\"T_de049588_40f6_11e9_b2a2_1866da2d1d8frow0_col9\" class=\"data row0 col9\" >-0.0033</td>\n",
       "                        <td id=\"T_de049588_40f6_11e9_b2a2_1866da2d1d8frow0_col10\" class=\"data row0 col10\" >0.4</td>\n",
       "            </tr>\n",
       "            <tr>\n",
       "                        <th id=\"T_de049588_40f6_11e9_b2a2_1866da2d1d8flevel0_row1\" class=\"row_heading level0 row1\" >1</th>\n",
       "                        <td id=\"T_de049588_40f6_11e9_b2a2_1866da2d1d8frow1_col0\" class=\"data row1 col0\" >0.001</td>\n",
       "                        <td id=\"T_de049588_40f6_11e9_b2a2_1866da2d1d8frow1_col1\" class=\"data row1 col1\" >1</td>\n",
       "                        <td id=\"T_de049588_40f6_11e9_b2a2_1866da2d1d8frow1_col2\" class=\"data row1 col2\" >0.0059</td>\n",
       "                        <td id=\"T_de049588_40f6_11e9_b2a2_1866da2d1d8frow1_col3\" class=\"data row1 col3\" >-0.0034</td>\n",
       "                        <td id=\"T_de049588_40f6_11e9_b2a2_1866da2d1d8frow1_col4\" class=\"data row1 col4\" >0.0034</td>\n",
       "                        <td id=\"T_de049588_40f6_11e9_b2a2_1866da2d1d8frow1_col5\" class=\"data row1 col5\" >-0.0023</td>\n",
       "                        <td id=\"T_de049588_40f6_11e9_b2a2_1866da2d1d8frow1_col6\" class=\"data row1 col6\" >0.00043</td>\n",
       "                        <td id=\"T_de049588_40f6_11e9_b2a2_1866da2d1d8frow1_col7\" class=\"data row1 col7\" >-0.0045</td>\n",
       "                        <td id=\"T_de049588_40f6_11e9_b2a2_1866da2d1d8frow1_col8\" class=\"data row1 col8\" >0.002</td>\n",
       "                        <td id=\"T_de049588_40f6_11e9_b2a2_1866da2d1d8frow1_col9\" class=\"data row1 col9\" >0.00034</td>\n",
       "                        <td id=\"T_de049588_40f6_11e9_b2a2_1866da2d1d8frow1_col10\" class=\"data row1 col10\" >0.4</td>\n",
       "            </tr>\n",
       "            <tr>\n",
       "                        <th id=\"T_de049588_40f6_11e9_b2a2_1866da2d1d8flevel0_row2\" class=\"row_heading level0 row2\" >2</th>\n",
       "                        <td id=\"T_de049588_40f6_11e9_b2a2_1866da2d1d8frow2_col0\" class=\"data row2 col0\" >-0.00086</td>\n",
       "                        <td id=\"T_de049588_40f6_11e9_b2a2_1866da2d1d8frow2_col1\" class=\"data row2 col1\" >0.0059</td>\n",
       "                        <td id=\"T_de049588_40f6_11e9_b2a2_1866da2d1d8frow2_col2\" class=\"data row2 col2\" >1</td>\n",
       "                        <td id=\"T_de049588_40f6_11e9_b2a2_1866da2d1d8frow2_col3\" class=\"data row2 col3\" >0.0064</td>\n",
       "                        <td id=\"T_de049588_40f6_11e9_b2a2_1866da2d1d8frow2_col4\" class=\"data row2 col4\" >0.00054</td>\n",
       "                        <td id=\"T_de049588_40f6_11e9_b2a2_1866da2d1d8frow2_col5\" class=\"data row2 col5\" >0.0038</td>\n",
       "                        <td id=\"T_de049588_40f6_11e9_b2a2_1866da2d1d8frow2_col6\" class=\"data row2 col6\" >-0.0022</td>\n",
       "                        <td id=\"T_de049588_40f6_11e9_b2a2_1866da2d1d8frow2_col7\" class=\"data row2 col7\" >0.0024</td>\n",
       "                        <td id=\"T_de049588_40f6_11e9_b2a2_1866da2d1d8frow2_col8\" class=\"data row2 col8\" >0.00085</td>\n",
       "                        <td id=\"T_de049588_40f6_11e9_b2a2_1866da2d1d8frow2_col9\" class=\"data row2 col9\" >-0.00075</td>\n",
       "                        <td id=\"T_de049588_40f6_11e9_b2a2_1866da2d1d8frow2_col10\" class=\"data row2 col10\" >0.0063</td>\n",
       "            </tr>\n",
       "            <tr>\n",
       "                        <th id=\"T_de049588_40f6_11e9_b2a2_1866da2d1d8flevel0_row3\" class=\"row_heading level0 row3\" >3</th>\n",
       "                        <td id=\"T_de049588_40f6_11e9_b2a2_1866da2d1d8frow3_col0\" class=\"data row3 col0\" >0.0002</td>\n",
       "                        <td id=\"T_de049588_40f6_11e9_b2a2_1866da2d1d8frow3_col1\" class=\"data row3 col1\" >-0.0034</td>\n",
       "                        <td id=\"T_de049588_40f6_11e9_b2a2_1866da2d1d8frow3_col2\" class=\"data row3 col2\" >0.0064</td>\n",
       "                        <td id=\"T_de049588_40f6_11e9_b2a2_1866da2d1d8frow3_col3\" class=\"data row3 col3\" >1</td>\n",
       "                        <td id=\"T_de049588_40f6_11e9_b2a2_1866da2d1d8frow3_col4\" class=\"data row3 col4\" >0.0005</td>\n",
       "                        <td id=\"T_de049588_40f6_11e9_b2a2_1866da2d1d8frow3_col5\" class=\"data row3 col5\" >0.0013</td>\n",
       "                        <td id=\"T_de049588_40f6_11e9_b2a2_1866da2d1d8frow3_col6\" class=\"data row3 col6\" >-0.0013</td>\n",
       "                        <td id=\"T_de049588_40f6_11e9_b2a2_1866da2d1d8frow3_col7\" class=\"data row3 col7\" >0.0023</td>\n",
       "                        <td id=\"T_de049588_40f6_11e9_b2a2_1866da2d1d8frow3_col8\" class=\"data row3 col8\" >0.0049</td>\n",
       "                        <td id=\"T_de049588_40f6_11e9_b2a2_1866da2d1d8frow3_col9\" class=\"data row3 col9\" >0.002</td>\n",
       "                        <td id=\"T_de049588_40f6_11e9_b2a2_1866da2d1d8frow3_col10\" class=\"data row3 col10\" >0.59</td>\n",
       "            </tr>\n",
       "            <tr>\n",
       "                        <th id=\"T_de049588_40f6_11e9_b2a2_1866da2d1d8flevel0_row4\" class=\"row_heading level0 row4\" >4</th>\n",
       "                        <td id=\"T_de049588_40f6_11e9_b2a2_1866da2d1d8frow4_col0\" class=\"data row4 col0\" >-0.00088</td>\n",
       "                        <td id=\"T_de049588_40f6_11e9_b2a2_1866da2d1d8frow4_col1\" class=\"data row4 col1\" >0.0034</td>\n",
       "                        <td id=\"T_de049588_40f6_11e9_b2a2_1866da2d1d8frow4_col2\" class=\"data row4 col2\" >0.00054</td>\n",
       "                        <td id=\"T_de049588_40f6_11e9_b2a2_1866da2d1d8frow4_col3\" class=\"data row4 col3\" >0.0005</td>\n",
       "                        <td id=\"T_de049588_40f6_11e9_b2a2_1866da2d1d8frow4_col4\" class=\"data row4 col4\" >1</td>\n",
       "                        <td id=\"T_de049588_40f6_11e9_b2a2_1866da2d1d8frow4_col5\" class=\"data row4 col5\" >0.003</td>\n",
       "                        <td id=\"T_de049588_40f6_11e9_b2a2_1866da2d1d8frow4_col6\" class=\"data row4 col6\" >0.0033</td>\n",
       "                        <td id=\"T_de049588_40f6_11e9_b2a2_1866da2d1d8frow4_col7\" class=\"data row4 col7\" >-0.002</td>\n",
       "                        <td id=\"T_de049588_40f6_11e9_b2a2_1866da2d1d8frow4_col8\" class=\"data row4 col8\" >-0.0026</td>\n",
       "                        <td id=\"T_de049588_40f6_11e9_b2a2_1866da2d1d8frow4_col9\" class=\"data row4 col9\" >-0.0011</td>\n",
       "                        <td id=\"T_de049588_40f6_11e9_b2a2_1866da2d1d8frow4_col10\" class=\"data row4 col10\" >0.3</td>\n",
       "            </tr>\n",
       "            <tr>\n",
       "                        <th id=\"T_de049588_40f6_11e9_b2a2_1866da2d1d8flevel0_row5\" class=\"row_heading level0 row5\" >5</th>\n",
       "                        <td id=\"T_de049588_40f6_11e9_b2a2_1866da2d1d8frow5_col0\" class=\"data row5 col0\" >0.0021</td>\n",
       "                        <td id=\"T_de049588_40f6_11e9_b2a2_1866da2d1d8frow5_col1\" class=\"data row5 col1\" >-0.0023</td>\n",
       "                        <td id=\"T_de049588_40f6_11e9_b2a2_1866da2d1d8frow5_col2\" class=\"data row5 col2\" >0.0038</td>\n",
       "                        <td id=\"T_de049588_40f6_11e9_b2a2_1866da2d1d8frow5_col3\" class=\"data row5 col3\" >0.0013</td>\n",
       "                        <td id=\"T_de049588_40f6_11e9_b2a2_1866da2d1d8frow5_col4\" class=\"data row5 col4\" >0.003</td>\n",
       "                        <td id=\"T_de049588_40f6_11e9_b2a2_1866da2d1d8frow5_col5\" class=\"data row5 col5\" >1</td>\n",
       "                        <td id=\"T_de049588_40f6_11e9_b2a2_1866da2d1d8frow5_col6\" class=\"data row5 col6\" >0.005</td>\n",
       "                        <td id=\"T_de049588_40f6_11e9_b2a2_1866da2d1d8frow5_col7\" class=\"data row5 col7\" >0.00053</td>\n",
       "                        <td id=\"T_de049588_40f6_11e9_b2a2_1866da2d1d8frow5_col8\" class=\"data row5 col8\" >-0.0011</td>\n",
       "                        <td id=\"T_de049588_40f6_11e9_b2a2_1866da2d1d8frow5_col9\" class=\"data row5 col9\" >-0.0063</td>\n",
       "                        <td id=\"T_de049588_40f6_11e9_b2a2_1866da2d1d8frow5_col10\" class=\"data row5 col10\" >0.0019</td>\n",
       "            </tr>\n",
       "            <tr>\n",
       "                        <th id=\"T_de049588_40f6_11e9_b2a2_1866da2d1d8flevel0_row6\" class=\"row_heading level0 row6\" >6</th>\n",
       "                        <td id=\"T_de049588_40f6_11e9_b2a2_1866da2d1d8frow6_col0\" class=\"data row6 col0\" >-0.00088</td>\n",
       "                        <td id=\"T_de049588_40f6_11e9_b2a2_1866da2d1d8frow6_col1\" class=\"data row6 col1\" >0.00043</td>\n",
       "                        <td id=\"T_de049588_40f6_11e9_b2a2_1866da2d1d8frow6_col2\" class=\"data row6 col2\" >-0.0022</td>\n",
       "                        <td id=\"T_de049588_40f6_11e9_b2a2_1866da2d1d8frow6_col3\" class=\"data row6 col3\" >-0.0013</td>\n",
       "                        <td id=\"T_de049588_40f6_11e9_b2a2_1866da2d1d8frow6_col4\" class=\"data row6 col4\" >0.0033</td>\n",
       "                        <td id=\"T_de049588_40f6_11e9_b2a2_1866da2d1d8frow6_col5\" class=\"data row6 col5\" >0.005</td>\n",
       "                        <td id=\"T_de049588_40f6_11e9_b2a2_1866da2d1d8frow6_col6\" class=\"data row6 col6\" >1</td>\n",
       "                        <td id=\"T_de049588_40f6_11e9_b2a2_1866da2d1d8frow6_col7\" class=\"data row6 col7\" >-0.0025</td>\n",
       "                        <td id=\"T_de049588_40f6_11e9_b2a2_1866da2d1d8frow6_col8\" class=\"data row6 col8\" >0.0002</td>\n",
       "                        <td id=\"T_de049588_40f6_11e9_b2a2_1866da2d1d8frow6_col9\" class=\"data row6 col9\" >-0.00077</td>\n",
       "                        <td id=\"T_de049588_40f6_11e9_b2a2_1866da2d1d8frow6_col10\" class=\"data row6 col10\" >-0.0015</td>\n",
       "            </tr>\n",
       "            <tr>\n",
       "                        <th id=\"T_de049588_40f6_11e9_b2a2_1866da2d1d8flevel0_row7\" class=\"row_heading level0 row7\" >7</th>\n",
       "                        <td id=\"T_de049588_40f6_11e9_b2a2_1866da2d1d8frow7_col0\" class=\"data row7 col0\" >-0.00037</td>\n",
       "                        <td id=\"T_de049588_40f6_11e9_b2a2_1866da2d1d8frow7_col1\" class=\"data row7 col1\" >-0.0045</td>\n",
       "                        <td id=\"T_de049588_40f6_11e9_b2a2_1866da2d1d8frow7_col2\" class=\"data row7 col2\" >0.0024</td>\n",
       "                        <td id=\"T_de049588_40f6_11e9_b2a2_1866da2d1d8frow7_col3\" class=\"data row7 col3\" >0.0023</td>\n",
       "                        <td id=\"T_de049588_40f6_11e9_b2a2_1866da2d1d8frow7_col4\" class=\"data row7 col4\" >-0.002</td>\n",
       "                        <td id=\"T_de049588_40f6_11e9_b2a2_1866da2d1d8frow7_col5\" class=\"data row7 col5\" >0.00053</td>\n",
       "                        <td id=\"T_de049588_40f6_11e9_b2a2_1866da2d1d8frow7_col6\" class=\"data row7 col6\" >-0.0025</td>\n",
       "                        <td id=\"T_de049588_40f6_11e9_b2a2_1866da2d1d8frow7_col7\" class=\"data row7 col7\" >1</td>\n",
       "                        <td id=\"T_de049588_40f6_11e9_b2a2_1866da2d1d8frow7_col8\" class=\"data row7 col8\" >-0.0024</td>\n",
       "                        <td id=\"T_de049588_40f6_11e9_b2a2_1866da2d1d8frow7_col9\" class=\"data row7 col9\" >-0.00065</td>\n",
       "                        <td id=\"T_de049588_40f6_11e9_b2a2_1866da2d1d8frow7_col10\" class=\"data row7 col10\" >-0.0011</td>\n",
       "            </tr>\n",
       "            <tr>\n",
       "                        <th id=\"T_de049588_40f6_11e9_b2a2_1866da2d1d8flevel0_row8\" class=\"row_heading level0 row8\" >8</th>\n",
       "                        <td id=\"T_de049588_40f6_11e9_b2a2_1866da2d1d8frow8_col0\" class=\"data row8 col0\" >0.0014</td>\n",
       "                        <td id=\"T_de049588_40f6_11e9_b2a2_1866da2d1d8frow8_col1\" class=\"data row8 col1\" >0.002</td>\n",
       "                        <td id=\"T_de049588_40f6_11e9_b2a2_1866da2d1d8frow8_col2\" class=\"data row8 col2\" >0.00085</td>\n",
       "                        <td id=\"T_de049588_40f6_11e9_b2a2_1866da2d1d8frow8_col3\" class=\"data row8 col3\" >0.0049</td>\n",
       "                        <td id=\"T_de049588_40f6_11e9_b2a2_1866da2d1d8frow8_col4\" class=\"data row8 col4\" >-0.0026</td>\n",
       "                        <td id=\"T_de049588_40f6_11e9_b2a2_1866da2d1d8frow8_col5\" class=\"data row8 col5\" >-0.0011</td>\n",
       "                        <td id=\"T_de049588_40f6_11e9_b2a2_1866da2d1d8frow8_col6\" class=\"data row8 col6\" >0.0002</td>\n",
       "                        <td id=\"T_de049588_40f6_11e9_b2a2_1866da2d1d8frow8_col7\" class=\"data row8 col7\" >-0.0024</td>\n",
       "                        <td id=\"T_de049588_40f6_11e9_b2a2_1866da2d1d8frow8_col8\" class=\"data row8 col8\" >1</td>\n",
       "                        <td id=\"T_de049588_40f6_11e9_b2a2_1866da2d1d8frow8_col9\" class=\"data row8 col9\" >0.0033</td>\n",
       "                        <td id=\"T_de049588_40f6_11e9_b2a2_1866da2d1d8frow8_col10\" class=\"data row8 col10\" >0.0027</td>\n",
       "            </tr>\n",
       "            <tr>\n",
       "                        <th id=\"T_de049588_40f6_11e9_b2a2_1866da2d1d8flevel0_row9\" class=\"row_heading level0 row9\" >9</th>\n",
       "                        <td id=\"T_de049588_40f6_11e9_b2a2_1866da2d1d8frow9_col0\" class=\"data row9 col0\" >-0.0033</td>\n",
       "                        <td id=\"T_de049588_40f6_11e9_b2a2_1866da2d1d8frow9_col1\" class=\"data row9 col1\" >0.00034</td>\n",
       "                        <td id=\"T_de049588_40f6_11e9_b2a2_1866da2d1d8frow9_col2\" class=\"data row9 col2\" >-0.00075</td>\n",
       "                        <td id=\"T_de049588_40f6_11e9_b2a2_1866da2d1d8frow9_col3\" class=\"data row9 col3\" >0.002</td>\n",
       "                        <td id=\"T_de049588_40f6_11e9_b2a2_1866da2d1d8frow9_col4\" class=\"data row9 col4\" >-0.0011</td>\n",
       "                        <td id=\"T_de049588_40f6_11e9_b2a2_1866da2d1d8frow9_col5\" class=\"data row9 col5\" >-0.0063</td>\n",
       "                        <td id=\"T_de049588_40f6_11e9_b2a2_1866da2d1d8frow9_col6\" class=\"data row9 col6\" >-0.00077</td>\n",
       "                        <td id=\"T_de049588_40f6_11e9_b2a2_1866da2d1d8frow9_col7\" class=\"data row9 col7\" >-0.00065</td>\n",
       "                        <td id=\"T_de049588_40f6_11e9_b2a2_1866da2d1d8frow9_col8\" class=\"data row9 col8\" >0.0033</td>\n",
       "                        <td id=\"T_de049588_40f6_11e9_b2a2_1866da2d1d8frow9_col9\" class=\"data row9 col9\" >1</td>\n",
       "                        <td id=\"T_de049588_40f6_11e9_b2a2_1866da2d1d8frow9_col10\" class=\"data row9 col10\" >-0.0011</td>\n",
       "            </tr>\n",
       "            <tr>\n",
       "                        <th id=\"T_de049588_40f6_11e9_b2a2_1866da2d1d8flevel0_row10\" class=\"row_heading level0 row10\" >10</th>\n",
       "                        <td id=\"T_de049588_40f6_11e9_b2a2_1866da2d1d8frow10_col0\" class=\"data row10 col0\" >0.4</td>\n",
       "                        <td id=\"T_de049588_40f6_11e9_b2a2_1866da2d1d8frow10_col1\" class=\"data row10 col1\" >0.4</td>\n",
       "                        <td id=\"T_de049588_40f6_11e9_b2a2_1866da2d1d8frow10_col2\" class=\"data row10 col2\" >0.0063</td>\n",
       "                        <td id=\"T_de049588_40f6_11e9_b2a2_1866da2d1d8frow10_col3\" class=\"data row10 col3\" >0.59</td>\n",
       "                        <td id=\"T_de049588_40f6_11e9_b2a2_1866da2d1d8frow10_col4\" class=\"data row10 col4\" >0.3</td>\n",
       "                        <td id=\"T_de049588_40f6_11e9_b2a2_1866da2d1d8frow10_col5\" class=\"data row10 col5\" >0.0019</td>\n",
       "                        <td id=\"T_de049588_40f6_11e9_b2a2_1866da2d1d8frow10_col6\" class=\"data row10 col6\" >-0.0015</td>\n",
       "                        <td id=\"T_de049588_40f6_11e9_b2a2_1866da2d1d8frow10_col7\" class=\"data row10 col7\" >-0.0011</td>\n",
       "                        <td id=\"T_de049588_40f6_11e9_b2a2_1866da2d1d8frow10_col8\" class=\"data row10 col8\" >0.0027</td>\n",
       "                        <td id=\"T_de049588_40f6_11e9_b2a2_1866da2d1d8frow10_col9\" class=\"data row10 col9\" >-0.0011</td>\n",
       "                        <td id=\"T_de049588_40f6_11e9_b2a2_1866da2d1d8frow10_col10\" class=\"data row10 col10\" >1</td>\n",
       "            </tr>\n",
       "    </tbody></table>"
      ],
      "text/plain": [
       "<pandas.io.formats.style.Styler at 0x7fb695522278>"
      ]
     },
     "execution_count": 7,
     "metadata": {},
     "output_type": "execute_result"
    }
   ],
   "source": [
    "# Pandas-direct way\n",
    "df_corr = pd.DataFrame(corr)\n",
    "df_corr.style.background_gradient(cmap='coolwarm', axis=None).set_precision(2) # 'coolwarm' & 'RdBu_r' &'BrBG' "
   ]
  },
  {
   "cell_type": "markdown",
   "metadata": {},
   "source": [
    "### Inspection 2: Seaborn Summary"
   ]
  },
  {
   "cell_type": "code",
   "execution_count": 8,
   "metadata": {
    "collapsed": true
   },
   "outputs": [],
   "source": [
    "#summarize_dataset(df, samples=1000)"
   ]
  },
  {
   "cell_type": "markdown",
   "metadata": {},
   "source": [
    "## Learn Tree"
   ]
  },
  {
   "cell_type": "code",
   "execution_count": 9,
   "metadata": {},
   "outputs": [
    {
     "data": {
      "text/plain": [
       "4.583668421993243"
      ]
     },
     "execution_count": 9,
     "metadata": {},
     "output_type": "execute_result"
    }
   ],
   "source": [
    "# Initialize\n",
    "model = C45Tree(max_depth=2)\n",
    "\n",
    "# Fit\n",
    "model.fit(X_train, y_train)\n",
    "\n",
    "# Predict\n",
    "y_pred = model.predict(X_test)\n",
    "\n",
    "rmse = np.sqrt(np.mean((y_test - y_pred)**2))\n",
    "rmse"
   ]
  },
  {
   "cell_type": "code",
   "execution_count": 10,
   "metadata": {},
   "outputs": [
    {
     "data": {
      "text/plain": [
       "20000"
      ]
     },
     "execution_count": 10,
     "metadata": {},
     "output_type": "execute_result"
    }
   ],
   "source": [
    "idxs = model.predict(X_test, output_type=\"index\")\n",
    "len(idxs)"
   ]
  },
  {
   "cell_type": "code",
   "execution_count": 11,
   "metadata": {},
   "outputs": [
    {
     "name": "stdout",
     "output_type": "stream",
     "text": [
      "\n",
      "    n_samples in the leaf:  32212.0\n",
      "    value:                  14.056347560438548\n",
      "    \n",
      "\n",
      "    n_samples in the leaf:  18277.0\n",
      "    value:                  14.016259001997643\n",
      "    \n",
      "\n",
      "    n_samples in the leaf:  17911.0\n",
      "    value:                  12.969389652735895\n",
      "    \n",
      "\n",
      "    n_samples in the leaf:  11600.0\n",
      "    value:                  17.979939816828548\n",
      "    \n"
     ]
    }
   ],
   "source": [
    "leaves_array = model.dump()\n",
    "\n",
    "for leaf in leaves_array:\n",
    "    n_samples = leaf['n_samples']\n",
    "    val = leaf['y']\n",
    "    \n",
    "    msg = \"\"\"\n",
    "    n_samples in the leaf:  {}\n",
    "    value:                  {}\n",
    "    \"\"\".format(n_samples, val)\n",
    "    print(msg)"
   ]
  },
  {
   "cell_type": "code",
   "execution_count": 12,
   "metadata": {
    "scrolled": true
   },
   "outputs": [
    {
     "data": {
      "text/plain": [
       "[{'eqs': [{'svar': 2,\n",
       "    'sval': 0.6289027826282271,\n",
       "    'sidx': 670,\n",
       "    'op': '<',\n",
       "    'missing': 1},\n",
       "   {'svar': 7,\n",
       "    'sval': 0.6367232519153525,\n",
       "    'sidx': 1947,\n",
       "    'op': '<',\n",
       "    'missing': 1}],\n",
       "  'i_start': 0,\n",
       "  'i_end': 32212,\n",
       "  '_id': 'ROOT::670L::1947L',\n",
       "  'n_samples': 32212.0,\n",
       "  'y': 14.056347560438548,\n",
       "  'depth': 2,\n",
       "  'y_lst': [14.041835516575032, 14.056347560438548],\n",
       "  'is_leaf': True,\n",
       "  'index': 0},\n",
       " {'eqs': [{'svar': 2,\n",
       "    'sval': 0.6289027826282271,\n",
       "    'sidx': 670,\n",
       "    'op': '<',\n",
       "    'missing': 1},\n",
       "   {'svar': 7,\n",
       "    'sval': 0.6367232519153525,\n",
       "    'sidx': 1947,\n",
       "    'op': '>=',\n",
       "    'missing': 0}],\n",
       "  'i_start': 32212,\n",
       "  'i_end': 50489,\n",
       "  '_id': 'ROOT::670L::1947R',\n",
       "  'n_samples': 18277.0,\n",
       "  'y': 14.016259001997643,\n",
       "  'depth': 2,\n",
       "  'y_lst': [14.041835516575032, 14.016259001997643],\n",
       "  'is_leaf': True,\n",
       "  'index': 1},\n",
       " {'eqs': [{'svar': 2,\n",
       "    'sval': 0.6289027826282271,\n",
       "    'sidx': 670,\n",
       "    'op': '>=',\n",
       "    'missing': 0},\n",
       "   {'svar': 3,\n",
       "    'sval': 0.605468757710613,\n",
       "    'sidx': 919,\n",
       "    'op': '<',\n",
       "    'missing': 1}],\n",
       "  'i_start': 50489,\n",
       "  'i_end': 68400,\n",
       "  '_id': 'ROOT::670R::919L',\n",
       "  'n_samples': 17911.0,\n",
       "  'y': 12.969389652735895,\n",
       "  'depth': 2,\n",
       "  'y_lst': [14.938905491015724, 12.969389652735895],\n",
       "  'is_leaf': True,\n",
       "  'index': 2},\n",
       " {'eqs': [{'svar': 2,\n",
       "    'sval': 0.6289027826282271,\n",
       "    'sidx': 670,\n",
       "    'op': '>=',\n",
       "    'missing': 0},\n",
       "   {'svar': 3,\n",
       "    'sval': 0.605468757710613,\n",
       "    'sidx': 919,\n",
       "    'op': '>=',\n",
       "    'missing': 0}],\n",
       "  'i_start': 68400,\n",
       "  'i_end': 80000,\n",
       "  '_id': 'ROOT::670R::919R',\n",
       "  'n_samples': 11600.0,\n",
       "  'y': 17.979939816828548,\n",
       "  'depth': 2,\n",
       "  'y_lst': [14.938905491015724, 17.979939816828548],\n",
       "  'is_leaf': True,\n",
       "  'index': 3}]"
      ]
     },
     "execution_count": 12,
     "metadata": {},
     "output_type": "execute_result"
    }
   ],
   "source": [
    "model.dump()"
   ]
  },
  {
   "cell_type": "code",
   "execution_count": 13,
   "metadata": {},
   "outputs": [
    {
     "data": {
      "text/plain": [
       "array([[-1,  2,  0,  1,  2, -1],\n",
       "       [-1,  7,  0,  3,  4, -1],\n",
       "       [-1,  3,  0,  5,  6, -1],\n",
       "       [ 1, -1, -1, -1, -1,  0],\n",
       "       [ 1, -1, -1, -1, -1,  1],\n",
       "       [ 1, -1, -1, -1, -1,  2],\n",
       "       [ 1, -1, -1, -1, -1,  3]])"
      ]
     },
     "execution_count": 13,
     "metadata": {},
     "output_type": "execute_result"
    }
   ],
   "source": [
    "tree_ind = model.tree_ind\n",
    "tree_val = model.tree_val\n",
    "\n",
    "tree_ind"
   ]
  },
  {
   "cell_type": "code",
   "execution_count": 14,
   "metadata": {},
   "outputs": [
    {
     "data": {
      "text/plain": [
       "array([[ 0.62890278, -1.        ],\n",
       "       [ 0.63672325, -1.        ],\n",
       "       [ 0.60546876, -1.        ],\n",
       "       [-1.        , 14.05634756],\n",
       "       [-1.        , 14.016259  ],\n",
       "       [-1.        , 12.96938965],\n",
       "       [-1.        , 17.97993982]])"
      ]
     },
     "execution_count": 14,
     "metadata": {},
     "output_type": "execute_result"
    }
   ],
   "source": [
    "tree_val"
   ]
  },
  {
   "cell_type": "code",
   "execution_count": 15,
   "metadata": {},
   "outputs": [
    {
     "data": {
      "text/plain": [
       "array([[80000, 50489, 29511],\n",
       "       [50489, 32212, 18277],\n",
       "       [29511, 17911, 11600],\n",
       "       [32212,    -1,    -1],\n",
       "       [18277,    -1,    -1],\n",
       "       [17911,    -1,    -1],\n",
       "       [11600,    -1,    -1]])"
      ]
     },
     "execution_count": 15,
     "metadata": {},
     "output_type": "execute_result"
    }
   ],
   "source": [
    "model.get_counts()"
   ]
  },
  {
   "cell_type": "code",
   "execution_count": 16,
   "metadata": {},
   "outputs": [
    {
     "data": {
      "text/plain": [
       "array([[80000, 50489, 29511],\n",
       "       [50489, 32212, 18277],\n",
       "       [29511, 17911, 11600],\n",
       "       [32212,    -1,    -1],\n",
       "       [18277,    -1,    -1],\n",
       "       [17911,    -1,    -1],\n",
       "       [11600,    -1,    -1]])"
      ]
     },
     "execution_count": 16,
     "metadata": {},
     "output_type": "execute_result"
    }
   ],
   "source": [
    "model.counts"
   ]
  },
  {
   "cell_type": "code",
   "execution_count": 17,
   "metadata": {},
   "outputs": [
    {
     "data": {
      "text/plain": [
       "array([[ 0.6311125 ,  0.3688875 ],\n",
       "       [ 0.63800036,  0.36199964],\n",
       "       [ 0.60692623,  0.39307377],\n",
       "       [-1.        , -1.        ],\n",
       "       [-1.        , -1.        ],\n",
       "       [-1.        , -1.        ],\n",
       "       [-1.        , -1.        ]])"
      ]
     },
     "execution_count": 17,
     "metadata": {},
     "output_type": "execute_result"
    }
   ],
   "source": [
    "model.get_ratios()"
   ]
  },
  {
   "cell_type": "code",
   "execution_count": 18,
   "metadata": {},
   "outputs": [
    {
     "data": {
      "text/plain": [
       "array([[ 0.6311125 ,  0.3688875 ],\n",
       "       [ 0.63800036,  0.36199964],\n",
       "       [ 0.60692623,  0.39307377],\n",
       "       [-1.        , -1.        ],\n",
       "       [-1.        , -1.        ],\n",
       "       [-1.        , -1.        ],\n",
       "       [-1.        , -1.        ]])"
      ]
     },
     "execution_count": 18,
     "metadata": {},
     "output_type": "execute_result"
    }
   ],
   "source": [
    "model.ratios"
   ]
  },
  {
   "cell_type": "code",
   "execution_count": 19,
   "metadata": {
    "collapsed": true
   },
   "outputs": [],
   "source": [
    "old_tree = model"
   ]
  },
  {
   "cell_type": "code",
   "execution_count": null,
   "metadata": {
    "collapsed": true
   },
   "outputs": [],
   "source": []
  },
  {
   "cell_type": "code",
   "execution_count": 20,
   "metadata": {},
   "outputs": [
    {
     "name": "stdout",
     "output_type": "stream",
     "text": [
      "\n",
      "old tree counts:\n",
      "[[80000 50489 29511]\n",
      " [50489 32212 18277]\n",
      " [29511 17911 11600]\n",
      " [32212    -1    -1]\n",
      " [18277    -1    -1]\n",
      " [17911    -1    -1]\n",
      " [11600    -1    -1]]\n",
      "new tree counts:\n",
      "[[80000 29511 50489]\n",
      " [50489 18277 32212]\n",
      " [29511 11600 17911]\n",
      " [32212    -1    -1]\n",
      " [18277    -1    -1]\n",
      " [17911    -1    -1]\n",
      " [11600    -1    -1]]\n",
      "old tree ratios:\n",
      "[[ 0.6311125   0.3688875 ]\n",
      " [ 0.63800036  0.36199964]\n",
      " [ 0.60692623  0.39307377]\n",
      " [-1.         -1.        ]\n",
      " [-1.         -1.        ]\n",
      " [-1.         -1.        ]\n",
      " [-1.         -1.        ]]\n",
      "new tree ratios:\n",
      "[[ 0.3688875   0.6311125 ]\n",
      " [ 0.36199964  0.63800036]\n",
      " [ 0.39307377  0.60692623]\n",
      " [-1.         -1.        ]\n",
      " [-1.         -1.        ]\n",
      " [-1.         -1.        ]\n",
      " [-1.         -1.        ]]\n",
      "\n"
     ]
    }
   ],
   "source": [
    "new_tree = model.randomize_tree()\n",
    "msg = \"\"\"\n",
    "old tree counts:\n",
    "{}\n",
    "new tree counts:\n",
    "{}\n",
    "old tree ratios:\n",
    "{}\n",
    "new tree ratios:\n",
    "{}\n",
    "\"\"\".format(old_tree.get_counts(), new_tree.get_counts(), old_tree.get_ratios(), new_tree.get_ratios())\n",
    "print(msg)"
   ]
  },
  {
   "cell_type": "code",
   "execution_count": 21,
   "metadata": {},
   "outputs": [
    {
     "data": {
      "text/plain": [
       "(array([[80000, 29511, 50489],\n",
       "        [50489, 18277, 32212],\n",
       "        [29511, 11600, 17911],\n",
       "        [32212,    -1,    -1],\n",
       "        [18277,    -1,    -1],\n",
       "        [17911,    -1,    -1],\n",
       "        [11600,    -1,    -1]]), array([[ 0.3688875 ,  0.6311125 ],\n",
       "        [ 0.36199964,  0.63800036],\n",
       "        [ 0.39307377,  0.60692623],\n",
       "        [-1.        , -1.        ],\n",
       "        [-1.        , -1.        ],\n",
       "        [-1.        , -1.        ],\n",
       "        [-1.        , -1.        ]]))"
      ]
     },
     "execution_count": 21,
     "metadata": {},
     "output_type": "execute_result"
    }
   ],
   "source": [
    "new_tree.get_counts(), new_tree.get_ratios()"
   ]
  },
  {
   "cell_type": "code",
   "execution_count": null,
   "metadata": {
    "collapsed": true
   },
   "outputs": [],
   "source": []
  },
  {
   "cell_type": "code",
   "execution_count": null,
   "metadata": {
    "collapsed": true
   },
   "outputs": [],
   "source": []
  },
  {
   "cell_type": "code",
   "execution_count": 22,
   "metadata": {
    "collapsed": true
   },
   "outputs": [],
   "source": [
    "import copy"
   ]
  },
  {
   "cell_type": "code",
   "execution_count": 23,
   "metadata": {
    "collapsed": true
   },
   "outputs": [],
   "source": [
    "model2 = copy.copy(model)"
   ]
  },
  {
   "cell_type": "code",
   "execution_count": 24,
   "metadata": {
    "collapsed": true
   },
   "outputs": [],
   "source": [
    "model3 = copy.deepcopy(model)"
   ]
  },
  {
   "cell_type": "code",
   "execution_count": 25,
   "metadata": {},
   "outputs": [
    {
     "data": {
      "text/plain": [
       "array([[-1,  2,  0,  1,  2, -1],\n",
       "       [-1,  7,  0,  3,  4, -1],\n",
       "       [-1,  3,  0,  5,  6, -1],\n",
       "       [ 1, -1, -1, -1, -1,  0],\n",
       "       [ 1, -1, -1, -1, -1,  1],\n",
       "       [ 1, -1, -1, -1, -1,  2],\n",
       "       [ 1, -1, -1, -1, -1,  3]])"
      ]
     },
     "execution_count": 25,
     "metadata": {},
     "output_type": "execute_result"
    }
   ],
   "source": [
    "model2.tree_ind"
   ]
  },
  {
   "cell_type": "code",
   "execution_count": 26,
   "metadata": {
    "collapsed": true
   },
   "outputs": [],
   "source": [
    "model.tree_ind[0,0]=99"
   ]
  },
  {
   "cell_type": "code",
   "execution_count": 27,
   "metadata": {},
   "outputs": [
    {
     "data": {
      "text/plain": [
       "array([[99,  2,  0,  1,  2, -1],\n",
       "       [-1,  7,  0,  3,  4, -1],\n",
       "       [-1,  3,  0,  5,  6, -1],\n",
       "       [ 1, -1, -1, -1, -1,  0],\n",
       "       [ 1, -1, -1, -1, -1,  1],\n",
       "       [ 1, -1, -1, -1, -1,  2],\n",
       "       [ 1, -1, -1, -1, -1,  3]])"
      ]
     },
     "execution_count": 27,
     "metadata": {},
     "output_type": "execute_result"
    }
   ],
   "source": [
    "model.tree_ind"
   ]
  },
  {
   "cell_type": "code",
   "execution_count": 28,
   "metadata": {},
   "outputs": [
    {
     "data": {
      "text/plain": [
       "array([[99,  2,  0,  1,  2, -1],\n",
       "       [-1,  7,  0,  3,  4, -1],\n",
       "       [-1,  3,  0,  5,  6, -1],\n",
       "       [ 1, -1, -1, -1, -1,  0],\n",
       "       [ 1, -1, -1, -1, -1,  1],\n",
       "       [ 1, -1, -1, -1, -1,  2],\n",
       "       [ 1, -1, -1, -1, -1,  3]])"
      ]
     },
     "execution_count": 28,
     "metadata": {},
     "output_type": "execute_result"
    }
   ],
   "source": [
    "model2.tree_ind"
   ]
  },
  {
   "cell_type": "code",
   "execution_count": 29,
   "metadata": {},
   "outputs": [
    {
     "data": {
      "text/plain": [
       "array([[-1,  2,  0,  1,  2, -1],\n",
       "       [-1,  7,  0,  3,  4, -1],\n",
       "       [-1,  3,  0,  5,  6, -1],\n",
       "       [ 1, -1, -1, -1, -1,  0],\n",
       "       [ 1, -1, -1, -1, -1,  1],\n",
       "       [ 1, -1, -1, -1, -1,  2],\n",
       "       [ 1, -1, -1, -1, -1,  3]])"
      ]
     },
     "execution_count": 29,
     "metadata": {},
     "output_type": "execute_result"
    }
   ],
   "source": [
    "model3.tree_ind"
   ]
  },
  {
   "cell_type": "markdown",
   "metadata": {
    "heading_collapsed": true
   },
   "source": [
    "## Count per Node\n",
    "\n",
    "I need to know how many instances pass a node."
   ]
  },
  {
   "cell_type": "code",
   "execution_count": 30,
   "metadata": {
    "collapsed": true,
    "hidden": true
   },
   "outputs": [],
   "source": [
    "def count_samples(tree, node_idx):\n",
    "    \"\"\"\n",
    "    Count samples for specific node in the tree.\n",
    "    \"\"\"\n",
    "    \n",
    "    tree_ind = tree.tree_ind\n",
    "    tree_val = tree.tree_val\n",
    "    leaves = tree.leaves\n",
    "    \n",
    "    def is_leaf(node_idx):\n",
    "        return tree_ind[node_idx][0] == 1\n",
    "    \n",
    "    if is_leaf(node_idx):\n",
    "        leaf_idx = tree_ind[node_idx][5]\n",
    "        leaf = leaves[leaf_idx]\n",
    "        return leaf['n_samples']\n",
    "        \n",
    "    else:\n",
    "        l_idx = tree_ind[node_idx][3]\n",
    "        r_idx = tree_ind[node_idx][4]\n",
    "        return count_samples(tree, l_idx) + count_samples(tree, r_idx)"
   ]
  },
  {
   "cell_type": "code",
   "execution_count": 31,
   "metadata": {
    "hidden": true
   },
   "outputs": [
    {
     "data": {
      "text/plain": [
       "80000.0"
      ]
     },
     "execution_count": 31,
     "metadata": {},
     "output_type": "execute_result"
    }
   ],
   "source": [
    "count_samples(model, 1) + count_samples(model, 2)"
   ]
  },
  {
   "cell_type": "code",
   "execution_count": 32,
   "metadata": {
    "hidden": true
   },
   "outputs": [
    {
     "data": {
      "text/plain": [
       "[80000.0, 50489.0, 29511.0, 32212.0, 18277.0, 17911.0, 11600.0]"
      ]
     },
     "execution_count": 32,
     "metadata": {},
     "output_type": "execute_result"
    }
   ],
   "source": [
    "n_samples = [count_samples(model, node_idx) for node_idx in range(len(model.tree_ind))]\n",
    "n_samples"
   ]
  },
  {
   "cell_type": "markdown",
   "metadata": {},
   "source": [
    "## Generate DataStructure that we need\n",
    "\n",
    "For our first, basic idea."
   ]
  },
  {
   "cell_type": "code",
   "execution_count": 33,
   "metadata": {
    "collapsed": true
   },
   "outputs": [],
   "source": [
    "def adapt_tree_information(tree):\n",
    "    tree_ind = tree.tree_ind\n",
    "    tree_val = tree.tree_val\n",
    "    leaves = tree.leaves\n",
    "    \n",
    "    n_nodes, _ = tree_ind.shape\n",
    "    \n",
    "    adapt_tree_int_header = ('l_idx', 'r_idx', 'l_samples', 'r_samples', 'svar')\n",
    "    adapt_tree_flt_header = ('sval', 'l_ratio', 'r_ratio')\n",
    "    \n",
    "    adapt_tree_int = np.zeros((n_nodes, len(adapt_tree_int_header)), dtype=int)\n",
    "    adapt_tree_flt = np.zeros((n_nodes, len(adapt_tree_flt_header)), dtype=float)\n",
    "    \n",
    "    def is_leaf(node_idx):\n",
    "        return tree_ind[node_idx][0] == 1\n",
    "    \n",
    "    for n in range(n_nodes):\n",
    "        leaf = is_leaf(n)\n",
    "        \n",
    "        adapt_tree_int[n, 0] = tree_ind[n][3]                               # l_idx\n",
    "        adapt_tree_int[n, 1] = tree_ind[n][4]                               # r_idx\n",
    "        adapt_tree_int[n, 2] = count_samples(tree, tree_ind[n][3]) if not leaf else -1 # l_samples\n",
    "        adapt_tree_int[n, 3] = count_samples(tree, tree_ind[n][4]) if not leaf else -1 # r_samples\n",
    "        adapt_tree_int[n, 4] = tree_ind[n][1]                               # svar\n",
    "        \n",
    "        adapt_tree_flt[n, 0] = tree_val[n][0]                               # sval\n",
    "        \n",
    "        n_samples = adapt_tree_int[n, 2] + adapt_tree_int[n, 3]\n",
    "        adapt_tree_flt[n, 1] = adapt_tree_int[n, 2]/n_samples if not leaf else  -1           # l_ratio\n",
    "        adapt_tree_flt[n, 2] = adapt_tree_int[n, 3]/n_samples if not leaf else  -1            # r_ratio\n",
    "    \n",
    "    return adapt_tree_int, adapt_tree_flt"
   ]
  },
  {
   "cell_type": "code",
   "execution_count": 34,
   "metadata": {
    "code_folding": [
     13
    ],
    "collapsed": true
   },
   "outputs": [],
   "source": [
    "def tunnel(node_ind, direction=0):\n",
    "    l_child_idx = node_ind[3] # Left child index\n",
    "    r_child_idx = node_ind[4] # Right child index\n",
    "    \n",
    "    if direction==0:\n",
    "        node_ind[3] = r_child_idx\n",
    "    elif direction==1:\n",
    "        node_ind[4] = l_child_idx\n",
    "    elif direction==-1:\n",
    "        node_ind[3] = r_child_idx\n",
    "        node_ind[4] = l_child_idx\n",
    "    else:\n",
    "        msg = \"\"\"\n",
    "        Tunneling direction is either:\n",
    "             0     left to right,\n",
    "             1     right to left\n",
    "             -1    swap \n",
    "        Did not recognize direction: {}\n",
    "        \"\"\".format(direction)\n",
    "        raise ValueError(msg)\n",
    "    \n",
    "    return node_ind"
   ]
  },
  {
   "cell_type": "code",
   "execution_count": 35,
   "metadata": {
    "collapsed": true
   },
   "outputs": [],
   "source": [
    "def swap(node_ind):\n",
    "    return tunnel(node_ind, direction=-1)"
   ]
  },
  {
   "cell_type": "code",
   "execution_count": 36,
   "metadata": {
    "collapsed": true
   },
   "outputs": [],
   "source": [
    "def must_swap(l_ratio, s):\n",
    "    \"\"\"\n",
    "    l_ratio is the ratio of samples sent to the left child.\n",
    "    \n",
    "    s is a sample drawn from a random distribution.\n",
    "    \"\"\"\n",
    "    \n",
    "    d = 0.5-l_ratio\n",
    "    \n",
    "    return abs(s) > abs(d)"
   ]
  },
  {
   "cell_type": "code",
   "execution_count": 37,
   "metadata": {},
   "outputs": [
    {
     "ename": "NameError",
     "evalue": "name 'swap_node' is not defined",
     "output_type": "error",
     "traceback": [
      "\u001b[0;31m---------------------------------------------------------------------------\u001b[0m",
      "\u001b[0;31mNameError\u001b[0m                                 Traceback (most recent call last)",
      "\u001b[0;32m<ipython-input-37-c960ed6f8ee7>\u001b[0m in \u001b[0;36m<module>\u001b[0;34m\u001b[0m\n\u001b[0;32m----> 1\u001b[0;31m \u001b[0mswap_node\u001b[0m\u001b[0;34m(\u001b[0m\u001b[0;34m[\u001b[0m\u001b[0;34m-\u001b[0m\u001b[0;36m1\u001b[0m\u001b[0;34m,\u001b[0m\u001b[0;36m2\u001b[0m\u001b[0;34m,\u001b[0m\u001b[0;36m5\u001b[0m\u001b[0;34m,\u001b[0m\u001b[0;36m10\u001b[0m\u001b[0;34m,\u001b[0m\u001b[0;36m20\u001b[0m\u001b[0;34m,\u001b[0m\u001b[0;36m50\u001b[0m\u001b[0;34m]\u001b[0m\u001b[0;34m)\u001b[0m\u001b[0;34m\u001b[0m\u001b[0;34m\u001b[0m\u001b[0m\n\u001b[0m",
      "\u001b[0;31mNameError\u001b[0m: name 'swap_node' is not defined"
     ]
    }
   ],
   "source": [
    "swap_node([-1,2,5,10,20,50])"
   ]
  },
  {
   "cell_type": "code",
   "execution_count": null,
   "metadata": {
    "collapsed": true
   },
   "outputs": [],
   "source": []
  },
  {
   "cell_type": "code",
   "execution_count": null,
   "metadata": {
    "collapsed": true
   },
   "outputs": [],
   "source": [
    "adapt_tree_information(model)"
   ]
  },
  {
   "cell_type": "code",
   "execution_count": null,
   "metadata": {
    "collapsed": true
   },
   "outputs": [],
   "source": [
    "a = [1,2,3]\n",
    "b = a\n",
    "b[2] = 'x'"
   ]
  },
  {
   "cell_type": "code",
   "execution_count": null,
   "metadata": {
    "collapsed": true
   },
   "outputs": [],
   "source": [
    "a"
   ]
  },
  {
   "cell_type": "code",
   "execution_count": null,
   "metadata": {
    "collapsed": true
   },
   "outputs": [],
   "source": [
    "def randomize_tree(tree):\n",
    "    tree_ind = tree.tree_ind\n",
    "    tree_val = tree.tree_val\n",
    "    leaves = tree.leaves\n",
    "    \n",
    "    n_nodes, _ = tree_ind.shape\n",
    "    \n",
    "    sigma = 0.1\n",
    "    mu = 0.5\n",
    "    random_samples = np.random.normal(mu, sigma, n_nodes)\n",
    "    random_samples = np.round(random_samples, decimals=0)\n",
    "    \n",
    "    for n in range(n_nodes):\n",
    "        l_idx = tree_ind[n][3]\n",
    "        r_idx = tree_ind[n][4]\n",
    "        \n",
    "        d = 50-l_ratio\n",
    "        s = random_samples[n]\n",
    "        must_swap = abs(s) > abs(d)\n",
    "        \n",
    "        if must_swap:\n",
    "            tree_ind[n][3] = r_idx\n",
    "            tree_ind[n][4] = l_idx   \n",
    "            \n",
    "    tree.tree_ind = tree_ind\n",
    "    tree.tree_ind = tree_ind\n",
    "    \n",
    "    return"
   ]
  },
  {
   "cell_type": "code",
   "execution_count": null,
   "metadata": {
    "collapsed": true
   },
   "outputs": [],
   "source": [
    "sigma = 10\n",
    "mu = 0\n",
    "s = np.random.normal(mu, sigma, 1000)\n",
    "s = np.round(s, decimals=0)\n",
    "s[:10]"
   ]
  },
  {
   "cell_type": "code",
   "execution_count": null,
   "metadata": {
    "collapsed": true
   },
   "outputs": [],
   "source": [
    "abs(-2)"
   ]
  },
  {
   "cell_type": "code",
   "execution_count": null,
   "metadata": {
    "collapsed": true
   },
   "outputs": [],
   "source": [
    "def normal_dist(x, mu=0.5, sigma=0.1):\n",
    "    return 1/(sigma * np.sqrt(2 * np.pi)) * np.exp( - (x - mu)**2 / (2 * sigma**2))"
   ]
  },
  {
   "cell_type": "code",
   "execution_count": null,
   "metadata": {
    "collapsed": true
   },
   "outputs": [],
   "source": [
    "normal_dist(0.5)"
   ]
  },
  {
   "cell_type": "code",
   "execution_count": null,
   "metadata": {
    "collapsed": true
   },
   "outputs": [],
   "source": []
  },
  {
   "cell_type": "code",
   "execution_count": null,
   "metadata": {
    "collapsed": true
   },
   "outputs": [],
   "source": []
  },
  {
   "cell_type": "code",
   "execution_count": null,
   "metadata": {
    "collapsed": true
   },
   "outputs": [],
   "source": [
    "import matplotlib.pyplot as plt\n",
    "count, bins, ignored = plt.hist(s, 30, density=True)\n",
    "plt.plot(bins, 1/(sigma * np.sqrt(2 * np.pi)) *\n",
    "               np.exp( - (bins - mu)**2 / (2 * sigma**2) ),\n",
    "         linewidth=2, color='r')\n",
    "plt.show()"
   ]
  }
 ],
 "metadata": {
  "kernelspec": {
   "display_name": "Python [conda env:bonsai]",
   "language": "python",
   "name": "conda-env-bonsai-py"
  },
  "language_info": {
   "codemirror_mode": {
    "name": "ipython",
    "version": 3
   },
   "file_extension": ".py",
   "mimetype": "text/x-python",
   "name": "python",
   "nbconvert_exporter": "python",
   "pygments_lexer": "ipython3",
   "version": "3.6.8"
  },
  "toc": {
   "nav_menu": {},
   "number_sections": true,
   "sideBar": true,
   "skip_h1_title": true,
   "toc_cell": false,
   "toc_position": {},
   "toc_section_display": "block",
   "toc_window_display": false
  }
 },
 "nbformat": 4,
 "nbformat_minor": 2
}
