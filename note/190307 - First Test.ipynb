{
 "cells": [
  {
   "cell_type": "markdown",
   "metadata": {},
   "source": [
    "# First Test"
   ]
  },
  {
   "cell_type": "code",
   "execution_count": null,
   "metadata": {
    "collapsed": true
   },
   "outputs": [],
   "source": []
  },
  {
   "cell_type": "code",
   "execution_count": 1,
   "metadata": {
    "collapsed": true
   },
   "outputs": [],
   "source": [
    "import os\n",
    "import sys\n",
    "\n",
    "import numpy as np\n",
    "import pandas as pd\n",
    "from sklearn.datasets import make_friedman1\n",
    "from sklearn.model_selection import train_test_split\n",
    "\n",
    "import matplotlib.pyplot as plt\n",
    "import seaborn as sns\n",
    "\n",
    "note_dir = os.getcwd()\n",
    "root_dir = os.path.dirname(note_dir)\n",
    "sys.path.append(root_dir)\n",
    "\n",
    "import bonsai\n",
    "from bonsai.base import *"
   ]
  },
  {
   "cell_type": "code",
   "execution_count": 2,
   "metadata": {
    "collapsed": true
   },
   "outputs": [],
   "source": [
    "def plot_corr(corr):\n",
    "    fig = plt.figure(figsize=((10,10))) # slightly larger\n",
    "    ax = fig.add_subplot(111)\n",
    "    cax = ax.matshow(corr,cmap='seismic')\n",
    "    fig.colorbar(cax)\n",
    "    \n",
    "    for (i, j), z in np.ndenumerate(corr):\n",
    "        ax.text(j, i, '{:0.4f}'.format(z), ha='center', va='center', color='w')\n",
    "    return "
   ]
  },
  {
   "cell_type": "code",
   "execution_count": 3,
   "metadata": {
    "collapsed": true
   },
   "outputs": [],
   "source": [
    "def summarize_dataset(df, samples=1000, random_state=997, replace=False):\n",
    "    \"\"\"\n",
    "    This function plots a grid of plots that give some insights into pairwise relationships between\n",
    "    the attributes in the dataset.\n",
    "    \n",
    "    Explicit correlations or special distributions should be very visible here.\n",
    "    \"\"\"\n",
    "    \n",
    "    df_subsample = df.sample(n=samples, replace=False, random_state=random_state)\n",
    "    \n",
    "    sns.set(style=\"ticks\", color_codes=True)\n",
    "    g = sns.PairGrid(df_subsample) # slice every 10 otherwise a bit slow\n",
    "    g = g.map_diag(plt.hist) # histograms on the diagonal\n",
    "    g = g.map_lower(sns.kdeplot, cmap=\"Blues_d\") # density plot on the lower plots\n",
    "    g = g.map_upper(plt.scatter) # scatter plots on the upper plots\n",
    "    return"
   ]
  },
  {
   "cell_type": "markdown",
   "metadata": {},
   "source": [
    "## Data"
   ]
  },
  {
   "cell_type": "code",
   "execution_count": 4,
   "metadata": {
    "collapsed": true
   },
   "outputs": [],
   "source": [
    "# Synthetic DataSet using sklearn\n",
    "X, y = make_friedman1(n_samples=10**5) \n",
    "n, m = X.shape\n",
    "X_train, X_test, y_train, y_test = train_test_split(X, y, test_size=0.2)"
   ]
  },
  {
   "cell_type": "code",
   "execution_count": 5,
   "metadata": {},
   "outputs": [
    {
     "data": {
      "text/html": [
       "<div>\n",
       "<style scoped>\n",
       "    .dataframe tbody tr th:only-of-type {\n",
       "        vertical-align: middle;\n",
       "    }\n",
       "\n",
       "    .dataframe tbody tr th {\n",
       "        vertical-align: top;\n",
       "    }\n",
       "\n",
       "    .dataframe thead th {\n",
       "        text-align: right;\n",
       "    }\n",
       "</style>\n",
       "<table border=\"1\" class=\"dataframe\">\n",
       "  <thead>\n",
       "    <tr style=\"text-align: right;\">\n",
       "      <th></th>\n",
       "      <th>0</th>\n",
       "      <th>1</th>\n",
       "      <th>2</th>\n",
       "      <th>3</th>\n",
       "      <th>4</th>\n",
       "      <th>5</th>\n",
       "      <th>6</th>\n",
       "      <th>7</th>\n",
       "      <th>8</th>\n",
       "      <th>9</th>\n",
       "      <th>y</th>\n",
       "    </tr>\n",
       "  </thead>\n",
       "  <tbody>\n",
       "    <tr>\n",
       "      <th>0</th>\n",
       "      <td>0.560464</td>\n",
       "      <td>0.043254</td>\n",
       "      <td>0.025939</td>\n",
       "      <td>0.416327</td>\n",
       "      <td>0.136704</td>\n",
       "      <td>0.326657</td>\n",
       "      <td>0.233534</td>\n",
       "      <td>0.977250</td>\n",
       "      <td>0.735111</td>\n",
       "      <td>0.127046</td>\n",
       "      <td>10.102326</td>\n",
       "    </tr>\n",
       "    <tr>\n",
       "      <th>1</th>\n",
       "      <td>0.844055</td>\n",
       "      <td>0.515428</td>\n",
       "      <td>0.696027</td>\n",
       "      <td>0.316473</td>\n",
       "      <td>0.275996</td>\n",
       "      <td>0.681984</td>\n",
       "      <td>0.377350</td>\n",
       "      <td>0.742765</td>\n",
       "      <td>0.643971</td>\n",
       "      <td>0.983341</td>\n",
       "      <td>15.105783</td>\n",
       "    </tr>\n",
       "    <tr>\n",
       "      <th>2</th>\n",
       "      <td>0.885824</td>\n",
       "      <td>0.615800</td>\n",
       "      <td>0.486061</td>\n",
       "      <td>0.140745</td>\n",
       "      <td>0.261221</td>\n",
       "      <td>0.066777</td>\n",
       "      <td>0.722355</td>\n",
       "      <td>0.546086</td>\n",
       "      <td>0.233552</td>\n",
       "      <td>0.002861</td>\n",
       "      <td>12.615494</td>\n",
       "    </tr>\n",
       "    <tr>\n",
       "      <th>3</th>\n",
       "      <td>0.394611</td>\n",
       "      <td>0.200031</td>\n",
       "      <td>0.530091</td>\n",
       "      <td>0.127244</td>\n",
       "      <td>0.122577</td>\n",
       "      <td>0.738350</td>\n",
       "      <td>0.397752</td>\n",
       "      <td>0.585974</td>\n",
       "      <td>0.520242</td>\n",
       "      <td>0.221564</td>\n",
       "      <td>4.357885</td>\n",
       "    </tr>\n",
       "    <tr>\n",
       "      <th>4</th>\n",
       "      <td>0.250492</td>\n",
       "      <td>0.476267</td>\n",
       "      <td>0.010301</td>\n",
       "      <td>0.610086</td>\n",
       "      <td>0.854331</td>\n",
       "      <td>0.868485</td>\n",
       "      <td>0.005886</td>\n",
       "      <td>0.145202</td>\n",
       "      <td>0.996500</td>\n",
       "      <td>0.001799</td>\n",
       "      <td>18.829432</td>\n",
       "    </tr>\n",
       "  </tbody>\n",
       "</table>\n",
       "</div>"
      ],
      "text/plain": [
       "          0         1         2         3         4         5         6  \\\n",
       "0  0.560464  0.043254  0.025939  0.416327  0.136704  0.326657  0.233534   \n",
       "1  0.844055  0.515428  0.696027  0.316473  0.275996  0.681984  0.377350   \n",
       "2  0.885824  0.615800  0.486061  0.140745  0.261221  0.066777  0.722355   \n",
       "3  0.394611  0.200031  0.530091  0.127244  0.122577  0.738350  0.397752   \n",
       "4  0.250492  0.476267  0.010301  0.610086  0.854331  0.868485  0.005886   \n",
       "\n",
       "          7         8         9          y  \n",
       "0  0.977250  0.735111  0.127046  10.102326  \n",
       "1  0.742765  0.643971  0.983341  15.105783  \n",
       "2  0.546086  0.233552  0.002861  12.615494  \n",
       "3  0.585974  0.520242  0.221564   4.357885  \n",
       "4  0.145202  0.996500  0.001799  18.829432  "
      ]
     },
     "execution_count": 5,
     "metadata": {},
     "output_type": "execute_result"
    }
   ],
   "source": [
    "df = pd.DataFrame(X)\n",
    "df = df.assign(y=y)\n",
    "df.head()"
   ]
  },
  {
   "cell_type": "code",
   "execution_count": 6,
   "metadata": {},
   "outputs": [
    {
     "data": {
      "image/png": "[encoded data removed]",
      "text/plain": [
       "<Figure size 720x720 with 2 Axes>"
      ]
     },
     "metadata": {
      "needs_background": "light"
     },
     "output_type": "display_data"
    }
   ],
   "source": [
    "corr = df.corr().values\n",
    "plot_corr(corr)"
   ]
  },
  {
   "cell_type": "markdown",
   "metadata": {},
   "source": [
    "## Build Tree\n",
    "\n",
    "Build trees and derive randomizations and see how their result behaves."
   ]
  },
  {
   "cell_type": "code",
   "execution_count": 7,
   "metadata": {},
   "outputs": [
    {
     "data": {
      "text/plain": [
       "1.8601042539423511"
      ]
     },
     "execution_count": 7,
     "metadata": {},
     "output_type": "execute_result"
    }
   ],
   "source": [
    "# Initialize\n",
    "model = RegTree(max_depth=10)\n",
    "\n",
    "# Fit\n",
    "model.fit(X_train, y_train)\n",
    "\n",
    "# Predict\n",
    "y_pred = model.predict(X_test)\n",
    "\n",
    "rmse_original = np.sqrt(np.mean((y_test - y_pred)**2))\n",
    "rmse_original"
   ]
  },
  {
   "cell_type": "code",
   "execution_count": 12,
   "metadata": {},
   "outputs": [],
   "source": [
    "derived_trees = [model.randomize_tree() for _ in range(100)]\n",
    "derived_pred = [m.predict(X_test) for m in derived_trees]\n",
    "derived_rmse = [np.sqrt(np.mean((y_test - y_pred)**2)) for y_pred in derived_pred]\n",
    "delta_rmse = [rmse_original-d for d in derived_rmse]"
   ]
  },
  {
   "cell_type": "code",
   "execution_count": 13,
   "metadata": {},
   "outputs": [
    {
     "data": {
      "image/png": "[encoded data removed]",
      "text/plain": [
       "<Figure size 432x288 with 1 Axes>"
      ]
     },
     "metadata": {
      "needs_background": "light"
     },
     "output_type": "display_data"
    }
   ],
   "source": [
    "plt.hist(delta_rmse, 30, density=True)\n",
    "plt.show()"
   ]
  },
  {
   "cell_type": "code",
   "execution_count": 18,
   "metadata": {},
   "outputs": [
    {
     "data": {
      "text/plain": [
       "(100, 20000)"
      ]
     },
     "execution_count": 18,
     "metadata": {},
     "output_type": "execute_result"
    }
   ],
   "source": [
    "derived_pred = np.array(derived_pred)\n",
    "derived_pred.shape"
   ]
  },
  {
   "cell_type": "code",
   "execution_count": 26,
   "metadata": {},
   "outputs": [
    {
     "data": {
      "text/plain": [
       "4.94776253312527"
      ]
     },
     "execution_count": 26,
     "metadata": {},
     "output_type": "execute_result"
    }
   ],
   "source": [
    "mean_pred = np.mean(derived_pred, axis=0)\n",
    "rmse_mean = np.sqrt(np.mean((y_test - mean_pred)**2))\n",
    "rmse_mean"
   ]
  },
  {
   "cell_type": "code",
   "execution_count": null,
   "metadata": {
    "collapsed": true
   },
   "outputs": [],
   "source": []
  },
  {
   "cell_type": "code",
   "execution_count": 10,
   "metadata": {
    "collapsed": true
   },
   "outputs": [],
   "source": [
    "all_rmse = [rmse_original].extend(derived_rmse)"
   ]
  }
 ],
 "metadata": {
  "kernelspec": {
   "display_name": "Python [conda env:bonsai]",
   "language": "python",
   "name": "conda-env-bonsai-py"
  },
  "language_info": {
   "codemirror_mode": {
    "name": "ipython",
    "version": 3
   },
   "file_extension": ".py",
   "mimetype": "text/x-python",
   "name": "python",
   "nbconvert_exporter": "python",
   "pygments_lexer": "ipython3",
   "version": "3.6.8"
  },
  "toc": {
   "nav_menu": {},
   "number_sections": true,
   "sideBar": true,
   "skip_h1_title": true,
   "toc_cell": false,
   "toc_position": {},
   "toc_section_display": "block",
   "toc_window_display": false
  }
 },
 "nbformat": 4,
 "nbformat_minor": 2
}
